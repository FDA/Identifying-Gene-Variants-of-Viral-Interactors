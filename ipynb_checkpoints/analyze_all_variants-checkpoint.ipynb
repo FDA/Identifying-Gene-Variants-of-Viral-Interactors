{
 "cells": [
  {
   "cell_type": "code",
   "execution_count": 1,
   "id": "ccbe781b-221c-4c80-883f-f5c2d76c2502",
   "metadata": {},
   "outputs": [],
   "source": [
    "#import all external packages\n",
    "import re, os, sys, time\n",
    "import pandas as pd\n",
    "\n",
    "#import all internal code libraries\n",
    "import tools, bio_tools, compute_features\n",
    "import parse_gwas, get_dbSNP\n",
    "\n",
    "#set organism information for host and virus\n",
    "host = '9606'\n",
    "host_organism = 'homo sapiens'\n",
    "virus = '2697049'\n",
    "virus_organism = \"Severe acute respiratory coronavirus 2\"\n",
    "\n",
    "#set locations of necessary files for cross-referencing\n",
    "directory = \"./\"\n",
    "biogrid_file = \"BIOGRID-ALL-4.4.206.tab3.txt\"\n",
    "go_file = \"coagulation_proteins.tsv\"\n",
    "gwas_file = \"COVID19_HGI_A2_ALL_leave_23andme_20210607.b37.txt\"\n",
    "gwas_prefix = \"A2\""
   ]
  },
  {
   "cell_type": "code",
   "execution_count": 2,
   "id": "58f0c6e1-d37b-4016-8ca5-cb7f80b81299",
   "metadata": {},
   "outputs": [],
   "source": [
    "#parse biogrid file and filter for only interactions involving both the host and virus organisms\n",
    "biogrid = pd.read_csv(os.path.join(directory, biogrid_file), sep=\"\\t\", header=0, low_memory=False).T.to_dict()\n",
    "biogrid = {k:v for k,v in biogrid.items() if str(v[\"Organism ID Interactor A\"]) in [host, virus] and str(v[\"Organism ID Interactor B\"]) in [host, virus]}\n",
    "genes = []\n",
    "for k,v in biogrid.items():\n",
    "    if str(v[\"Organism ID Interactor A\"]) == host and str(v[\"Organism ID Interactor B\"]) == virus:\n",
    "        genes.append(v[\"Official Symbol Interactor A\"])\n",
    "    elif str(v[\"Organism ID Interactor B\"]) == host and str(v[\"Organism ID Interactor A\"]) == virus:\n",
    "        genes.append(v[\"Official Symbol Interactor B\"])\n",
    "genes = {gene:None for gene in genes}"
   ]
  },
  {
   "cell_type": "code",
   "execution_count": 3,
   "id": "07b22312-0187-4a82-afdd-6d0e1d95db9f",
   "metadata": {},
   "outputs": [],
   "source": [
    "#parse gene ontology output (used for coagulation here), and gather all related gene names\n",
    "#cross-reference against genes from gene ontology\n",
    "coagulation = pd.read_csv(os.path.join(directory, go_file), sep=\"\\t\", header=None)\n",
    "coagulation = set(coagulation[0]) #this index may need to change based on the location of the gene name\n",
    "coagulation = [x for x in coagulation if x in genes]\n",
    "genes = {k:v for k,v in genes.items() if k in coagulation}"
   ]
  },
  {
   "cell_type": "code",
   "execution_count": null,
   "id": "9f282219-7777-4eb5-8998-5b85fa566ca5",
   "metadata": {},
   "outputs": [
    {
     "name": "stdout",
     "output_type": "stream",
     "text": [
      "IncompleteRead(397503 bytes read)\n",
      "local variable 'genomic' referenced before assignment\n",
      "IncompleteRead(852159 bytes read)\n",
      "local variable 'genomic' referenced before assignment\n"
     ]
    }
   ],
   "source": [
    "#for each gene of interest, collect accession IDs (RefSeq)\n",
    "for gene in list(genes):\n",
    "    try:\n",
    "        accids = bio_tools.get_accids(gene, organism=host_organism)[\"mRNA\"]\n",
    "        accids = [x[0] for x in accids]\n",
    "        genes[gene] = bio_tools.accid_opt(accids)\n",
    "    except Exception as e:\n",
    "        del genes[gene]\n",
    "genes"
   ]
  },
  {
   "cell_type": "code",
   "execution_count": null,
   "id": "f3cc1db5-cc92-4bc1-b0d0-989639e6b012",
   "metadata": {},
   "outputs": [],
   "source": [
    "#for each gene of interest, query RefSeq for genomic, transcript, and ORF sequences\n",
    "#then, query dbSNP for all synonymous and missense variants in gene and score them\n",
    "missense = {}\n",
    "synonymous = {}\n",
    "init_time = time.time()\n",
    "if not os.path.isdir(\"./seqdir/\"):\n",
    "    os.mkdir(\"./seqdir/\")\n",
    "for i, (genename, nm) in enumerate(genes.items()):\n",
    "    if any([True if k.startswith(genename) else False for k in list(missense.keys()) + list(synonymous.keys())]):\n",
    "        continue\n",
    "    if os.path.isfile(\"./seqdir/\" + genename + \"_\" + nm + \".fasta\"):\n",
    "        seqs = tools.read_fasta(\"./seqdir/\" + genename + \"_\" + nm + \".fasta\")\n",
    "    else:\n",
    "        try:\n",
    "            seqs = bio_tools.get_all_seqs(genename, nm, write=True, outdir=\"./seqdir/\")[\"seqs\"]\n",
    "        except Exception as e:\n",
    "            print(genename + \"\\t\" + str(e))\n",
    "            continue\n",
    "    try:\n",
    "        tmpd = get_dbSNP.get_syn(genename, seqs[\"ORF\"], nm)\n",
    "        for k,v in tmpd.items():\n",
    "            k = k[:-1] + \">\" + k[-1]\n",
    "            synonymous[genename + \":c.\" + k] = v\n",
    "    except Exception as e:\n",
    "        print(genename + \"\\t\" + str(e))\n",
    "    tools.pickledump(os.path.join(directory, synonymous, \"coag_syn.pkl\"))\n",
    "    try:\n",
    "        tmpd = get_dbSNP.get_nonsyn(genename, seqs[\"ORF\"], nm)\n",
    "        for k,v in tmpd.items():\n",
    "            k = k[:-1] + \">\" + k[-1]\n",
    "            missense[genename + \":c.\" + k] = v\n",
    "    except Exception as e:\n",
    "        print(genename + \"\\t\" + str(e))\n",
    "    tools.pickledump(os.path.join(directory, missense, \"coag_missense.pkl\"))\n",
    "    tools.update_time(i, len(genes), init_time)\n",
    "missense = pd.DataFrame(missense).T\n",
    "synonymous = pd.DataFrame(synonymous).T\n",
    "missense.to_csv(os.path.join(directory, gwas_prefix + \"_missense.tsv\"), sep=\"\\t\")\n",
    "synonymous.to_csv(os.path.join(directory, gwas_prefix + \"_synonymous.tsv\"), sep=\"\\t\")"
   ]
  },
  {
   "cell_type": "code",
   "execution_count": null,
   "id": "551e8f01-ba74-4dbc-b1d3-93e9335f8a01",
   "metadata": {},
   "outputs": [],
   "source": [
    "#filter the GWAS data for only regions including the genes of interest\n",
    "#additionally score these variants for splicing impact (many of these are intronic or UTR)\n",
    "gwas_data = parse_gwas.gwas_pipeline(gwas_file, list(genes.keys()), prefix=gwas_prefix, index_col=\"SNP\", p_col=\"all_inv_var_meta_p\", chromosome=\"#CHR\", position=\"POS\", ref=\"REF\", alt=\"ALT\", plim=0.05, translation=gwas_prefix + \".trans\")\n",
    "pd.DataFrame(gwas_data).T.to_csv(gwas_prefix + \"_sub.tsv\", sep=\"\\t\")"
   ]
  },
  {
   "cell_type": "code",
   "execution_count": null,
   "id": "1683a077-d3a6-4c87-9fc2-706473f8ed2b",
   "metadata": {},
   "outputs": [],
   "source": [
    "pd.DataFrame(gwas_data).T"
   ]
  },
  {
   "cell_type": "code",
   "execution_count": null,
   "id": "6b0f0370-80f5-4ff2-bcdb-c698d2a17b2a",
   "metadata": {},
   "outputs": [],
   "source": [
    "#count number of extreme values (splicing scores, conservation, mRNA MFE, MAF, etc) for each variant, in terms of percentile rank relative to the set of variants\n",
    "for name, df in {\"missense\":missense, \"synonymous\":synonymous}.items():\n",
    "    def count_ext(row):\n",
    "        return(len([col for col in row if tools.is_numeric(row[col]) and tools.is_numeric(tools.pctile(df[col], row[col])) and (tools.pctile(df[col], row[col]) <= 0.05 or tools.pctile(df[col], row[col]) >= 0.95)]))\n",
    "    df[\"Extreme values\"] = df.apply(lambda x: count_ext({col:x[col] for col in df.columns}), axis=1)"
   ]
  },
  {
   "cell_type": "code",
   "execution_count": null,
   "id": "5f46b298-feb5-4f18-a815-4f150496cbec",
   "metadata": {},
   "outputs": [],
   "source": [
    "#sort synonymous and missense variants by the number of extreme values and output them\n",
    "synonymous.sort_values(\"Extreme values\")\n",
    "missense.sort_values(\"Extreme values\")\n",
    "synonymous.to_csv(gwas_prefix + \"_synonymous.tsv\", sep=\"\\t\")\n",
    "missense.to_csv(gwas_prefix + \"_missense.tsv\", sep=\"\\t\")"
   ]
  },
  {
   "cell_type": "code",
   "execution_count": 36,
   "id": "cfaacc51-d61a-4059-a686-8f95f5b1f146",
   "metadata": {},
   "outputs": [],
   "source": [
    "#create list of host interactors for each viral gene/protein\n",
    "viral_genes = []\n",
    "for k,v in biogrid.items():\n",
    "    if str(v[\"Organism ID Interactor A\"]) == virus:\n",
    "        viral_genes.append(str(v[\"Official Symbol Interactor A\"]))\n",
    "    elif str(v[\"Organism ID Interactor B\"]) == virus:\n",
    "        viral_genes.append(str(v[\"Official Symbol Interactor B\"]))\n",
    "viral_genes = {k:[] for k in viral_genes}\n",
    "for k,v in biogrid.items():\n",
    "    if str(v[\"Organism ID Interactor B\"]) == host and str(v[\"Organism ID Interactor A\"]) == virus and str(v[\"Official Symbol Interactor B\"]) in genes:\n",
    "        viral_genes[str(v[\"Official Symbol Interactor A\"])].append(str(v[\"Official Symbol Interactor B\"]))\n",
    "    if str(v[\"Organism ID Interactor A\"]) == host and str(v[\"Organism ID Interactor B\"]) == virus and str(v[\"Official Symbol Interactor A\"]) in genes:\n",
    "        viral_genes[str(v[\"Official Symbol Interactor B\"])].append(str(v[\"Official Symbol Interactor A\"]))\n",
    "rev_viral = {vi:[k for k in viral_genes if vi in viral_genes[k]] for v in viral_genes.values() for vi in v}"
   ]
  },
  {
   "cell_type": "code",
   "execution_count": 37,
   "id": "5f46f7b1-dc94-4c65-ab2f-3451088c19be",
   "metadata": {},
   "outputs": [],
   "source": [
    "#create list of host interactors for each host protein of interest (useful for homology analysis)\n",
    "interactor_genes = {gene:[] for gene in genes}\n",
    "for k,v in biogrid.items():\n",
    "    if str(v[\"Organism ID Interactor B\"]) == host and str(v[\"Organism ID Interactor A\"]) == host and str(v[\"Official Symbol Interactor B\"]) in genes:\n",
    "        interactor_genes[str(v[\"Official Symbol Interactor B\"])] += [str(v[\"Official Symbol Interactor A\"])]\n",
    "    if str(v[\"Organism ID Interactor B\"]) == host and str(v[\"Organism ID Interactor A\"]) == host and str(v[\"Official Symbol Interactor A\"]) in genes:\n",
    "        interactor_genes[str(v[\"Official Symbol Interactor A\"])] += [str(v[\"Official Symbol Interactor B\"])]\n",
    "rev_interactor = {vi:[k for k in interactor_genes if vi in interactor_genes[k]] for v in interactor_genes.values() for vi in v}"
   ]
  },
  {
   "cell_type": "code",
   "execution_count": 44,
   "id": "e612aeea-dd8f-4247-a1fc-0026f908a4c0",
   "metadata": {},
   "outputs": [
    {
     "name": "stdout",
     "output_type": "stream",
     "text": [
      "E\t[Errno 2] No such file or directory: '/media/temp/E_dali.tsv'\n",
      "M\t[Errno 2] No such file or directory: '/media/temp/M_dali.tsv'\n",
      "S\t[Errno 2] No such file or directory: '/media/temp/S_dali.tsv'\n",
      "nsp1\t[Errno 2] No such file or directory: '/media/temp/nsp1_dali.tsv'\n",
      "nsp10\t[Errno 2] No such file or directory: '/media/temp/nsp10_dali.tsv'\n",
      "nsp11\t[Errno 2] No such file or directory: '/media/temp/nsp11_dali.tsv'\n",
      "nsp12\t[Errno 2] No such file or directory: '/media/temp/nsp12_dali.tsv'\n",
      "nsp13\t[Errno 2] No such file or directory: '/media/temp/nsp13_dali.tsv'\n",
      "nsp14\t[Errno 2] No such file or directory: '/media/temp/nsp14_dali.tsv'\n",
      "nsp15\t[Errno 2] No such file or directory: '/media/temp/nsp15_dali.tsv'\n",
      "nsp2\t[Errno 2] No such file or directory: '/media/temp/nsp2_dali.tsv'\n",
      "nsp4\t[Errno 2] No such file or directory: '/media/temp/nsp4_dali.tsv'\n",
      "nsp5\t[Errno 2] No such file or directory: '/media/temp/nsp5_dali.tsv'\n",
      "nsp6\t[Errno 2] No such file or directory: '/media/temp/nsp6_dali.tsv'\n",
      "nsp7\t[Errno 2] No such file or directory: '/media/temp/nsp7_dali.tsv'\n",
      "nsp8\t[Errno 2] No such file or directory: '/media/temp/nsp8_dali.tsv'\n",
      "nsp9\t[Errno 2] No such file or directory: '/media/temp/nsp9_dali.tsv'\n",
      "ORF10\t[Errno 2] No such file or directory: '/media/temp/ORF10_dali.tsv'\n",
      "ORF3a\t[Errno 2] No such file or directory: '/media/temp/ORF3a_dali.tsv'\n",
      "ORF3b\t[Errno 2] No such file or directory: '/media/temp/ORF3b_dali.tsv'\n",
      "ORF6\t[Errno 2] No such file or directory: '/media/temp/ORF6_dali.tsv'\n",
      "ORF7a\t[Errno 2] No such file or directory: '/media/temp/ORF7a_dali.tsv'\n",
      "ORF8\t[Errno 2] No such file or directory: '/media/temp/ORF8_dali.tsv'\n",
      "ORF9b\t[Errno 2] No such file or directory: '/media/temp/ORF9b_dali.tsv'\n",
      "ORF9c\t[Errno 2] No such file or directory: '/media/temp/ORF9c_dali.tsv'\n",
      "nsp16\t[Errno 2] No such file or directory: '/media/temp/nsp16_dali.tsv'\n",
      "ORF7b\t[Errno 2] No such file or directory: '/media/temp/ORF7b_dali.tsv'\n",
      "nsp3\t[Errno 2] No such file or directory: '/media/temp/nsp3_dali.tsv'\n",
      "ORF14\t[Errno 2] No such file or directory: '/media/temp/ORF14_dali.tsv'\n"
     ]
    },
    {
     "data": {
      "text/plain": [
       "{'N': {'7abt_A': ['CYPA', 'PPIA']}}"
      ]
     },
     "execution_count": 44,
     "metadata": {},
     "output_type": "execute_result"
    }
   ],
   "source": [
    "#read Dali output for each viral gene, and compare against list of host interactors for the host protein that interacts with that viral protein\n",
    "#this step finds host proteins that are structurally homologous to the viral proteins and also bind to the host protein that binds to the viral protein\n",
    "homologues = {}\n",
    "for k,v in viral_genes.items():\n",
    "    try:\n",
    "        df = pd.read_csv(os.path.join(directory, k + \"_dali.tsv\"), sep=\"\\t\", index_col=0)\n",
    "        homologues[k] = get_dbSNP.get_genename_from_pdb([[i, row[\"chain\"]] for i,row in df.iterrows()], taxid=host)\n",
    "        interactors = [yi for xi in viral_genes[k] for yi in interactor_genes[xi] if xi in interactor_genes]\n",
    "        homologues[k] = {k2:v2 for k2,v2 in homologues[k].items() if any([True if vi in interactors else False for vi in v]) and len(v2) > 0}\n",
    "    except Exception as e:\n",
    "        print(k + \"\\t\" + str(e))\n",
    "homologues"
   ]
  }
 ],
 "metadata": {
  "kernelspec": {
   "display_name": "Python 3 (ipykernel)",
   "language": "python",
   "name": "python3"
  },
  "language_info": {
   "codemirror_mode": {
    "name": "ipython",
    "version": 3
   },
   "file_extension": ".py",
   "mimetype": "text/x-python",
   "name": "python",
   "nbconvert_exporter": "python",
   "pygments_lexer": "ipython3",
   "version": "3.7.12"
  }
 },
 "nbformat": 4,
 "nbformat_minor": 5
}
